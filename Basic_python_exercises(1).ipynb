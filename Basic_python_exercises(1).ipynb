{
 "cells": [
  {
   "cell_type": "markdown",
   "metadata": {},
   "source": [
    "## Python Exercises <br>\n",
    "The goal of this assignment is to get you familiarized with basic python functionalities which were discussed in the class. \n",
    "You will have to apply the concepts taught in class today and feel free to go through the class notebook or the other sources mentioned in the notebook to gain more clarity of the concepts. <br>\n",
    "You will have to submit a pdf copy of the notebook in slack and the submission deadline will be announced to you in class. To submit, either print the page in pdf format or you can also use the 'download as' option in the 'file' menu(you may face some errors). <br>\n",
    "\n",
    "__Practise makes a man perfect!!!__ So lets get started with the exercise problems. <br>\n"
   ]
  },
  {
   "cell_type": "markdown",
   "metadata": {},
   "source": [
    "Write a Python program to get the Python version you are using."
   ]
  },
  {
   "cell_type": "code",
   "execution_count": 89,
   "metadata": {},
   "outputs": [
    {
     "data": {
      "text/plain": [
       "'2.7.12 (default, Dec  4 2017, 14:50:18) \\n[GCC 5.4.0 20160609]'"
      ]
     },
     "execution_count": 89,
     "metadata": {},
     "output_type": "execute_result"
    }
   ],
   "source": [
    "import sys\n",
    "import math\n",
    "sys.version"
   ]
  },
  {
   "cell_type": "markdown",
   "metadata": {},
   "source": [
    "Write a Python program which accepts the radius of a circle from the user and compute the area. (Use math library)"
   ]
  },
  {
   "cell_type": "code",
   "execution_count": 8,
   "metadata": {},
   "outputs": [
    {
     "name": "stdout",
     "output_type": "stream",
     "text": [
      "are of a circle with radiius is 314.159265359 \n"
     ]
    }
   ],
   "source": [
    "r=10\n",
    "a=math.pi*r*r\n",
    "print \"are of a circle with radiius is {} \".format(a)"
   ]
  },
  {
   "cell_type": "markdown",
   "metadata": {},
   "source": [
    "Write a Python program to concatenate all elements in a list into a string and return it."
   ]
  },
  {
   "cell_type": "code",
   "execution_count": 19,
   "metadata": {},
   "outputs": [
    {
     "data": {
      "text/plain": [
       "'abc'"
      ]
     },
     "execution_count": 19,
     "metadata": {},
     "output_type": "execute_result"
    }
   ],
   "source": [
    "my_list=['a','b','c']\n",
    "''.join(my_list)"
   ]
  },
  {
   "cell_type": "markdown",
   "metadata": {},
   "source": [
    "Write a Python program to calculate the area of a trapezoid. <br>\n",
    "Test Data <br>\n",
    "Height : 5<br>\n",
    "Base, first value : 5<br>\n",
    "Base, second value : 6<br>\n",
    "Expected Output: Area is : 27.5<br>"
   ]
  },
  {
   "cell_type": "code",
   "execution_count": 2,
   "metadata": {},
   "outputs": [
    {
     "name": "stdout",
     "output_type": "stream",
     "text": [
      "area of a trapezoid 27.5\n"
     ]
    }
   ],
   "source": [
    "height=5\n",
    "base_fv=5\n",
    "base_sv=6\n",
    "a=0.5*(base_fv+base_sv)*height\n",
    "print \"area of a trapezoid {}\".format(a)"
   ]
  },
  {
   "cell_type": "markdown",
   "metadata": {},
   "source": [
    "Write a Python program to remove and print every third number from a list of 50 natural numbers until the list becomes empty."
   ]
  },
  {
   "cell_type": "code",
   "execution_count": 125,
   "metadata": {},
   "outputs": [
    {
     "name": "stdout",
     "output_type": "stream",
     "text": [
      "num removed are\n",
      "2 5 8 11 14 17 20 23 26 29 32 35 38 41 44 47 current list is [0, 1, 3, 4, 6, 7, 9, 10, 12, 13, 15, 16, 18, 19, 21, 22, 24, 25, 27, 28, 30, 31, 33, 34, 36, 37, 39, 40, 42, 43, 45, 46, 48, 49]\n",
      "\n",
      "num removed are\n",
      "3 7 12 16 21 25 30 34 39 43 48 current list is [0, 1, 4, 6, 9, 10, 13, 15, 18, 19, 22, 24, 27, 28, 31, 33, 36, 37, 40, 42, 45, 46, 49]\n",
      "\n",
      "num removed are\n",
      "4 10 18 24 31 37 45 current list is [0, 1, 6, 9, 13, 15, 19, 22, 27, 28, 33, 36, 40, 42, 46, 49]\n",
      "\n",
      "num removed are\n",
      "6 15 27 36 46 current list is [0, 1, 9, 13, 19, 22, 28, 33, 40, 42, 49]\n",
      "\n",
      "num removed are\n",
      "9 22 40 current list is [0, 1, 13, 19, 28, 33, 42, 49]\n",
      "\n",
      "num removed are\n",
      "13 33 current list is [0, 1, 19, 28, 42, 49]\n",
      "\n",
      "num removed are\n",
      "19 49 current list is [0, 1, 28, 42]\n",
      "\n",
      "num removed are\n",
      "28 current list is [0, 1, 42]\n",
      "\n",
      "num removed are\n",
      "42 current list is [0, 1]\n",
      "\n"
     ]
    }
   ],
   "source": [
    "num=range(50)\n",
    "a=0\n",
    "while (len(num)>2):\n",
    "    a=0\n",
    "    print 'num removed are'\n",
    "    for i in num:\n",
    "        while(a==2):\n",
    "            num.remove(i)\n",
    "            print i,\n",
    "            a=0\n",
    "        a=a+1\n",
    "    print \"current list is {}\" \"\\n\".format(num)"
   ]
  },
  {
   "cell_type": "markdown",
   "metadata": {},
   "source": [
    "Write a Python program to print the following text, convert the string to a list and print all the words and their frequencies <br>\n",
    "__\"Probability is the measure of the likelihood that an event will occur. Probability is quantified as a number between 0 and 1, where, loosely speaking, 0 indicates impossibility and 1 indicates certainty. The higher the probability of an event, the more likely it is that the event will occur.\"__"
   ]
  },
  {
   "cell_type": "code",
   "execution_count": 3,
   "metadata": {},
   "outputs": [
    {
     "name": "stdout",
     "output_type": "stream",
     "text": [
      "TEXT LIST IS  ['Probability', 'is', 'the', 'measure', 'of', 'the', 'likelihood', 'that', 'an', 'event', 'will', 'occur.', 'Probability', 'is', 'quantified', 'as', 'a', 'number', 'between', '0', 'and', '1,', 'where,', 'loosely', 'speaking,', '0', 'indicates', 'impossibility', 'and', '1', 'indicates', 'certainty.', 'The', 'higher', 'the', 'probability', 'of', 'an', 'event,', 'the', 'more', 'likely', 'it', 'is', 'that', 'the', 'event', 'will', 'occur.'] \n",
      "FREQUENCY IS [('Probability', 2), ('is', 3), ('the', 5), ('measure', 1), ('of', 2), ('the', 5), ('likelihood', 1), ('that', 2), ('an', 2), ('event', 2), ('will', 2), ('occur.', 2), ('Probability', 2), ('is', 3), ('quantified', 1), ('as', 1), ('a', 1), ('number', 1), ('between', 1), ('0', 2), ('and', 2), ('1,', 1), ('where,', 1), ('loosely', 1), ('speaking,', 1), ('0', 2), ('indicates', 2), ('impossibility', 1), ('and', 2), ('1', 1), ('indicates', 2), ('certainty.', 1), ('The', 1), ('higher', 1), ('the', 5), ('probability', 1), ('of', 2), ('an', 2), ('event,', 1), ('the', 5), ('more', 1), ('likely', 1), ('it', 1), ('is', 3), ('that', 2), ('the', 5), ('event', 2), ('will', 2), ('occur.', 2)]\n"
     ]
    }
   ],
   "source": [
    "string=\"Probability is the measure of the likelihood that an event will occur. Probability is quantified as a number between 0 and 1, where, loosely speaking, 0 indicates impossibility and 1 indicates certainty. The higher the probability of an event, the more likely it is that the event will occur.\"\n",
    "list_1=string.split()\n",
    "frequency=[list_1.count(i) for i in list_1]\n",
    "print \"TEXT LIST IS  {} \".format(list_1)\n",
    "print \"FREQUENCY IS {}\".format(str((zip(list_1, frequency))))\n",
    "\n"
   ]
  },
  {
   "cell_type": "markdown",
   "metadata": {},
   "source": [
    "Write a Python program to reverse the digits of a given number and add it to the original, If the sum is not a palindrome repeat this procedure. <br>\n",
    "Note: A palindrome is a word, number, or other sequence of characters which reads the same backward as forward, such as madam or racecar."
   ]
  },
  {
   "cell_type": "code",
   "execution_count": 8,
   "metadata": {},
   "outputs": [
    {
     "ename": "KeyboardInterrupt",
     "evalue": "",
     "output_type": "error",
     "traceback": [
      "\u001b[0;31m---------------------------------------------------------------------------\u001b[0m",
      "\u001b[0;31mKeyboardInterrupt\u001b[0m                         Traceback (most recent call last)",
      "\u001b[0;32m<ipython-input-8-b9e96e839150>\u001b[0m in \u001b[0;36m<module>\u001b[0;34m()\u001b[0m\n\u001b[0;32m----> 1\u001b[0;31m \u001b[0mn\u001b[0m \u001b[0;34m=\u001b[0m\u001b[0mint\u001b[0m\u001b[0;34m(\u001b[0m\u001b[0minput\u001b[0m\u001b[0;34m(\u001b[0m\u001b[0;34m\"enter a number\"\u001b[0m\u001b[0;34m)\u001b[0m\u001b[0;34m)\u001b[0m\u001b[0;34m\u001b[0m\u001b[0m\n\u001b[0m\u001b[1;32m      2\u001b[0m \u001b[0mstr\u001b[0m\u001b[0;34m(\u001b[0m\u001b[0mn\u001b[0m\u001b[0;34m)\u001b[0m\u001b[0;34m\u001b[0m\u001b[0m\n\u001b[1;32m      3\u001b[0m \u001b[0mrev_num\u001b[0m\u001b[0;34m=\u001b[0m\u001b[0mint\u001b[0m\u001b[0;34m(\u001b[0m\u001b[0mstr\u001b[0m\u001b[0;34m(\u001b[0m\u001b[0mn\u001b[0m\u001b[0;34m)\u001b[0m\u001b[0;34m[\u001b[0m\u001b[0;34m:\u001b[0m\u001b[0;34m:\u001b[0m\u001b[0;34m-\u001b[0m\u001b[0;36m1\u001b[0m\u001b[0;34m]\u001b[0m\u001b[0;34m)\u001b[0m\u001b[0;34m+\u001b[0m\u001b[0mn\u001b[0m\u001b[0;34m\u001b[0m\u001b[0m\n\u001b[1;32m      4\u001b[0m \u001b[0mstr\u001b[0m\u001b[0;34m(\u001b[0m\u001b[0mrev_num\u001b[0m\u001b[0;34m)\u001b[0m\u001b[0;34m\u001b[0m\u001b[0m\n\u001b[1;32m      5\u001b[0m \u001b[0ma\u001b[0m\u001b[0;34m=\u001b[0m\u001b[0mint\u001b[0m\u001b[0;34m(\u001b[0m\u001b[0mstr\u001b[0m\u001b[0;34m(\u001b[0m\u001b[0mrev_num\u001b[0m\u001b[0;34m)\u001b[0m\u001b[0;34m[\u001b[0m\u001b[0;34m:\u001b[0m\u001b[0;34m:\u001b[0m\u001b[0;34m-\u001b[0m\u001b[0;36m1\u001b[0m\u001b[0;34m]\u001b[0m\u001b[0;34m)\u001b[0m\u001b[0;34m\u001b[0m\u001b[0m\n",
      "\u001b[0;32m/usr/local/lib/python2.7/dist-packages/ipykernel/ipkernel.pyc\u001b[0m in \u001b[0;36m<lambda>\u001b[0;34m(prompt)\u001b[0m\n\u001b[1;32m    174\u001b[0m             \u001b[0mself\u001b[0m\u001b[0;34m.\u001b[0m\u001b[0m_sys_eval_input\u001b[0m \u001b[0;34m=\u001b[0m \u001b[0mbuiltin_mod\u001b[0m\u001b[0;34m.\u001b[0m\u001b[0minput\u001b[0m\u001b[0;34m\u001b[0m\u001b[0m\n\u001b[1;32m    175\u001b[0m             \u001b[0mbuiltin_mod\u001b[0m\u001b[0;34m.\u001b[0m\u001b[0mraw_input\u001b[0m \u001b[0;34m=\u001b[0m \u001b[0mself\u001b[0m\u001b[0;34m.\u001b[0m\u001b[0mraw_input\u001b[0m\u001b[0;34m\u001b[0m\u001b[0m\n\u001b[0;32m--> 176\u001b[0;31m             \u001b[0mbuiltin_mod\u001b[0m\u001b[0;34m.\u001b[0m\u001b[0minput\u001b[0m \u001b[0;34m=\u001b[0m \u001b[0;32mlambda\u001b[0m \u001b[0mprompt\u001b[0m\u001b[0;34m=\u001b[0m\u001b[0;34m''\u001b[0m\u001b[0;34m:\u001b[0m \u001b[0meval\u001b[0m\u001b[0;34m(\u001b[0m\u001b[0mself\u001b[0m\u001b[0;34m.\u001b[0m\u001b[0mraw_input\u001b[0m\u001b[0;34m(\u001b[0m\u001b[0mprompt\u001b[0m\u001b[0;34m)\u001b[0m\u001b[0;34m)\u001b[0m\u001b[0;34m\u001b[0m\u001b[0m\n\u001b[0m\u001b[1;32m    177\u001b[0m         \u001b[0mself\u001b[0m\u001b[0;34m.\u001b[0m\u001b[0m_save_getpass\u001b[0m \u001b[0;34m=\u001b[0m \u001b[0mgetpass\u001b[0m\u001b[0;34m.\u001b[0m\u001b[0mgetpass\u001b[0m\u001b[0;34m\u001b[0m\u001b[0m\n\u001b[1;32m    178\u001b[0m         \u001b[0mgetpass\u001b[0m\u001b[0;34m.\u001b[0m\u001b[0mgetpass\u001b[0m \u001b[0;34m=\u001b[0m \u001b[0mself\u001b[0m\u001b[0;34m.\u001b[0m\u001b[0mgetpass\u001b[0m\u001b[0;34m\u001b[0m\u001b[0m\n",
      "\u001b[0;32m/usr/local/lib/python2.7/dist-packages/ipykernel/kernelbase.pyc\u001b[0m in \u001b[0;36mraw_input\u001b[0;34m(self, prompt)\u001b[0m\n\u001b[1;32m    702\u001b[0m             \u001b[0mself\u001b[0m\u001b[0;34m.\u001b[0m\u001b[0m_parent_ident\u001b[0m\u001b[0;34m,\u001b[0m\u001b[0;34m\u001b[0m\u001b[0m\n\u001b[1;32m    703\u001b[0m             \u001b[0mself\u001b[0m\u001b[0;34m.\u001b[0m\u001b[0m_parent_header\u001b[0m\u001b[0;34m,\u001b[0m\u001b[0;34m\u001b[0m\u001b[0m\n\u001b[0;32m--> 704\u001b[0;31m             \u001b[0mpassword\u001b[0m\u001b[0;34m=\u001b[0m\u001b[0mFalse\u001b[0m\u001b[0;34m,\u001b[0m\u001b[0;34m\u001b[0m\u001b[0m\n\u001b[0m\u001b[1;32m    705\u001b[0m         )\n\u001b[1;32m    706\u001b[0m \u001b[0;34m\u001b[0m\u001b[0m\n",
      "\u001b[0;32m/usr/local/lib/python2.7/dist-packages/ipykernel/kernelbase.pyc\u001b[0m in \u001b[0;36m_input_request\u001b[0;34m(self, prompt, ident, parent, password)\u001b[0m\n\u001b[1;32m    732\u001b[0m             \u001b[0;32mexcept\u001b[0m \u001b[0mKeyboardInterrupt\u001b[0m\u001b[0;34m:\u001b[0m\u001b[0;34m\u001b[0m\u001b[0m\n\u001b[1;32m    733\u001b[0m                 \u001b[0;31m# re-raise KeyboardInterrupt, to truncate traceback\u001b[0m\u001b[0;34m\u001b[0m\u001b[0;34m\u001b[0m\u001b[0m\n\u001b[0;32m--> 734\u001b[0;31m                 \u001b[0;32mraise\u001b[0m \u001b[0mKeyboardInterrupt\u001b[0m\u001b[0;34m\u001b[0m\u001b[0m\n\u001b[0m\u001b[1;32m    735\u001b[0m             \u001b[0;32melse\u001b[0m\u001b[0;34m:\u001b[0m\u001b[0;34m\u001b[0m\u001b[0m\n\u001b[1;32m    736\u001b[0m                 \u001b[0;32mbreak\u001b[0m\u001b[0;34m\u001b[0m\u001b[0m\n",
      "\u001b[0;31mKeyboardInterrupt\u001b[0m: "
     ]
    }
   ],
   "source": [
    "n =int(input(\"enter a number\"))\n",
    "str(n)\n",
    "rev_num=int(str(n)[::-1])+n\n",
    "str(rev_num)\n",
    "a=int(str(rev_num)[::-1])\n",
    "if a==rev_num:\n",
    "    print 'is a palindrome'\n",
    "else:\n",
    "    print 'not a palindrome'"
   ]
  },
  {
   "cell_type": "markdown",
   "metadata": {},
   "source": [
    "Write a Python program to generate a list of squares of numbers between 1 and 20 (both nos included) and print ONLY the first and last 5 elements."
   ]
  },
  {
   "cell_type": "code",
   "execution_count": 119,
   "metadata": {},
   "outputs": [
    {
     "name": "stdout",
     "output_type": "stream",
     "text": [
      "['256', '289', '324', '361', '400']\n",
      "['0', '1', '4', '9', '16']\n"
     ]
    }
   ],
   "source": [
    "list2=[]\n",
    "for i in range(0,21):\n",
    "    list2.append(str(i**2))\n",
    "print list2[-5:]\n",
    "print list2[:5]"
   ]
  },
  {
   "cell_type": "markdown",
   "metadata": {},
   "source": [
    "Write a Python program to split the following sentence based on white space and then extract the first letter of each split string. <br>\n",
    "__\"Jack of all trades but master of none\"__"
   ]
  },
  {
   "cell_type": "code",
   "execution_count": 120,
   "metadata": {},
   "outputs": [
    {
     "name": "stdout",
     "output_type": "stream",
     "text": [
      "['Jack', 'of', 'all', 'trades', 'but', 'master', 'of', 'none']\n",
      "J\n",
      "o\n",
      "a\n",
      "t\n",
      "b\n",
      "m\n",
      "o\n",
      "n\n"
     ]
    }
   ],
   "source": [
    "given_string='Jack of all trades but master of none'\n",
    "splitted=given_string.split(\" \")\n",
    "print splitted\n",
    "for i in splitted:\n",
    "    print (str(i[0]))"
   ]
  },
  {
   "cell_type": "markdown",
   "metadata": {},
   "source": [
    "Write a Python program to remove the duplicate elements in the list but preserve the order. <br>\n",
    "Eg: [2,3,5,4,2,3,8,4] should give an output [2,3,5,4,8]"
   ]
  },
  {
   "cell_type": "code",
   "execution_count": 129,
   "metadata": {},
   "outputs": [
    {
     "name": "stdout",
     "output_type": "stream",
     "text": [
      "[2, 3, 5, 4, 8]\n"
     ]
    }
   ],
   "source": [
    "my_list=[2,3,5,4,2,3,8,4]\n",
    "my_list1=[]\n",
    "for i in my_list:\n",
    "    if i not in my_list1:\n",
    "        my_list1.append(i)\n",
    "print my_list1\n",
    "# a=list(set(my_list))\n"
   ]
  },
  {
   "cell_type": "markdown",
   "metadata": {},
   "source": [
    "Write a Python program to solve the Fibonacci sequence using recursion. "
   ]
  },
  {
   "cell_type": "code",
   "execution_count": 6,
   "metadata": {},
   "outputs": [
    {
     "name": "stdout",
     "output_type": "stream",
     "text": [
      "512\n"
     ]
    }
   ],
   "source": [
    "def fib(n):\n",
    "    a = 0\n",
    "    b =1\n",
    "    for i in range(n):\n",
    "        a=b\n",
    "        b=a + b\n",
    "    return a\n",
    "print fib(10)"
   ]
  },
  {
   "cell_type": "markdown",
   "metadata": {},
   "source": [
    "Write a Python program to print a dictionary with keys are the names of the numbers between one and five (both included) and values are the cubes of the numbers. <br>\n",
    "Note: You should use a list to create the keys and create the dictionary using list comprehension."
   ]
  },
  {
   "cell_type": "code",
   "execution_count": 7,
   "metadata": {},
   "outputs": [
    {
     "name": "stdout",
     "output_type": "stream",
     "text": [
      "{'four': 4, 'three': 3, 'five': 5, 'two': 2, 'one': 1}\n"
     ]
    }
   ],
   "source": [
    "my_list2=[\"one\",\"two\",\"three\",\"four\",\"five\"]\n",
    "my_list3=range(1,6)\n",
    "dic=dict( zip( my_list2, my_list3))\n",
    "print dic"
   ]
  },
  {
   "cell_type": "markdown",
   "metadata": {},
   "source": [
    "Write a python program to check whether a given number is an Armstrong number using a function. <br>\n",
    "Note : An Armstrong number is one whose sum of cubes of digits is equal to the number itself. Eg: 371"
   ]
  },
  {
   "cell_type": "code",
   "execution_count": null,
   "metadata": {},
   "outputs": [],
   "source": [
    "n = int(input(\"Enter a number\"))\n",
    "s = 0\n",
    "temp = n\n",
    "while temp > 0:\n",
    "   digit = temp % 10\n",
    "   s += digit ** 3\n",
    "   temp //= 10\n",
    "\n",
    "if n == s:\n",
    "   print(\"is an Armstrong number\")\n",
    "else:\n",
    "   print(\"is not an Armstrong number\")"
   ]
  },
  {
   "cell_type": "markdown",
   "metadata": {},
   "source": [
    "Write a python program to find if a number is Automorphic or not. <br>\n",
    "Note: A number is Automorphic if and only if its square ends with the same digit as itself. Eg: The number 25 has its square 625 ending with the same last digit."
   ]
  },
  {
   "cell_type": "code",
   "execution_count": null,
   "metadata": {},
   "outputs": [],
   "source": [
    "def auto(n):\n",
    "    square=n*n\n",
    "    while (n>0):\n",
    "        if (n % 10 != square % 10) : \n",
    "            return False\n",
    "        n /= 10\n",
    "        square /= 10\n",
    "    return True\n",
    "n = 5\n",
    "if auto(n) : \n",
    "    print \"Automorphic\"\n",
    "else : \n",
    "    print  \"Not Automorphic\""
   ]
  },
  {
   "cell_type": "markdown",
   "metadata": {},
   "source": [
    "Write a python program to create a matrix $X = \\begin{bmatrix}10 & 2 \\\\44 & 0.5 \\end{bmatrix}$ using lists and use a function to return the sigmoid output of the matrix. <br>\n",
    "Note: The sigmoid function is given by $\\frac{1}{1 + e^{-x}}$\n",
    "Desired output: $\\begin{bmatrix}0.9999 & 0.8807 \\\\1 & 0.6224 \\end{bmatrix}$"
   ]
  },
  {
   "cell_type": "code",
   "execution_count": 116,
   "metadata": {},
   "outputs": [
    {
     "name": "stdout",
     "output_type": "stream",
     "text": [
      "sigmoid for given matrix [[0.9999546021312976, 0.8807970779778823], [1.0, 0.6224593312018546]]\n"
     ]
    }
   ],
   "source": [
    "a=[[10,2],[44,.5]]\n",
    "b=[]\n",
    "def sigmoid(n):\n",
    "    return 1 / (1 + math.exp(-n))\n",
    "b=[[sigmoid(i[j]) for j in range(len(a[0]))] for i in a]\n",
    "print \"sigmoid for given matrix {}\".format(b)"
   ]
  },
  {
   "cell_type": "markdown",
   "metadata": {},
   "source": [
    "Create a matrix $A = \\begin{bmatrix}1 & 2 & 3 \\\\4 & 5 & 6 \\end{bmatrix}$ and find its transpose using <br>\n",
    "1. List comprehension\n",
    "2. Zip"
   ]
  },
  {
   "cell_type": "code",
   "execution_count": 118,
   "metadata": {},
   "outputs": [
    {
     "name": "stdout",
     "output_type": "stream",
     "text": [
      "1\n",
      "2\n",
      "3\n",
      "4\n",
      "5\n",
      "6\n",
      "[[1, 4], [2, 5], [3, 6]]\n"
     ]
    }
   ],
   "source": [
    "a=[[1,2,3],[4,5,6]]\n",
    "for row in a:\n",
    "    for col in row:\n",
    "        print col\n",
    "transpose= [[row[i] for row in a]for i in range(len(a[0]))]\n",
    "a=zip([transpose],[a])\n",
    "print a\n",
    "    "
   ]
  },
  {
   "cell_type": "code",
   "execution_count": null,
   "metadata": {},
   "outputs": [],
   "source": []
  },
  {
   "cell_type": "code",
   "execution_count": 37,
   "metadata": {},
   "outputs": [
    {
     "data": {
      "text/plain": [
       "[[2, 3, 4], [5, 6, 7]]"
      ]
     },
     "execution_count": 37,
     "metadata": {},
     "output_type": "execute_result"
    }
   ],
   "source": [
    "# a=[[1,2,3],[4,5,6]]\n",
    "# b=[[0,0,0],[0,0,0]]\n",
    "# for i,k in zip(a,b):\n",
    "#     for j in range(len(a[0])):\n",
    "#         k[j]=(i[j]+1)\n",
    "# a\n",
    "# b"
   ]
  },
  {
   "cell_type": "code",
   "execution_count": 77,
   "metadata": {},
   "outputs": [
    {
     "data": {
      "text/plain": [
       "[1, 2, 3, 4, 5, 6]"
      ]
     },
     "execution_count": 77,
     "metadata": {},
     "output_type": "execute_result"
    }
   ],
   "source": [
    "# z=[]\n",
    "# a=[[1,2,3],[4,5,6]]\n",
    "# for i in a:\n",
    "#     for j in range(len(a[0])):\n",
    "#         z.append(i[j])\n",
    "# z"
   ]
  },
  {
   "cell_type": "code",
   "execution_count": null,
   "metadata": {},
   "outputs": [],
   "source": [
    "# z=[[(i[j]) for j in range(len(a[0]))] for i in a]\n",
    "# z"
   ]
  },
  {
   "cell_type": "code",
   "execution_count": null,
   "metadata": {},
   "outputs": [],
   "source": [
    "# a=[[1,2,3],[3,5,6]]\n",
    "# b=[]\n",
    "# b=[[(i[j]+1) for j in range(len(a[0]))] for i in a]\n",
    "# b"
   ]
  },
  {
   "cell_type": "code",
   "execution_count": null,
   "metadata": {},
   "outputs": [],
   "source": []
  }
 ],
 "metadata": {
  "kernelspec": {
   "display_name": "Python 2",
   "language": "python",
   "name": "python2"
  },
  "language_info": {
   "codemirror_mode": {
    "name": "ipython",
    "version": 2
   },
   "file_extension": ".py",
   "mimetype": "text/x-python",
   "name": "python",
   "nbconvert_exporter": "python",
   "pygments_lexer": "ipython2",
   "version": "2.7.12"
  }
 },
 "nbformat": 4,
 "nbformat_minor": 2
}
