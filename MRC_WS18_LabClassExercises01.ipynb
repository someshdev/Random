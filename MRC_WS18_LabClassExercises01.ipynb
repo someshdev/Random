{
 "cells": [
  {
   "cell_type": "markdown",
   "metadata": {
    "collapsed": true
   },
   "source": [
    "# Hochschule Bonn-Rhein-Sieg\n",
    "\n",
    "# Mathematics for Robotics and Control, WS18\n",
    "\n",
    "# 01 - Introduction to Python for Mathematics"
   ]
  },
  {
   "cell_type": "code",
   "execution_count": 15,
   "metadata": {},
   "outputs": [
    {
     "ename": "ImportError",
     "evalue": "No module named imageio",
     "output_type": "error",
     "traceback": [
      "\u001b[0;31m---------------------------------------------------------------------------\u001b[0m",
      "\u001b[0;31mImportError\u001b[0m                               Traceback (most recent call last)",
      "\u001b[0;32m<ipython-input-15-074de9c77728>\u001b[0m in \u001b[0;36m<module>\u001b[0;34m()\u001b[0m\n\u001b[1;32m      6\u001b[0m \u001b[0;32mimport\u001b[0m \u001b[0msympy\u001b[0m \u001b[0;32mas\u001b[0m \u001b[0msp\u001b[0m\u001b[0;34m\u001b[0m\u001b[0m\n\u001b[1;32m      7\u001b[0m \u001b[0;32mimport\u001b[0m \u001b[0mmatplotlib\u001b[0m\u001b[0;34m.\u001b[0m\u001b[0mpyplot\u001b[0m \u001b[0;32mas\u001b[0m \u001b[0mplt\u001b[0m\u001b[0;34m\u001b[0m\u001b[0m\n\u001b[0;32m----> 8\u001b[0;31m \u001b[0;32mimport\u001b[0m \u001b[0mimageio\u001b[0m\u001b[0;34m\u001b[0m\u001b[0m\n\u001b[0m\u001b[1;32m      9\u001b[0m \u001b[0;32mfrom\u001b[0m \u001b[0mskimage\u001b[0m \u001b[0;32mimport\u001b[0m \u001b[0mtransform\u001b[0m\u001b[0;34m\u001b[0m\u001b[0m\n\u001b[1;32m     10\u001b[0m \u001b[0mget_ipython\u001b[0m\u001b[0;34m(\u001b[0m\u001b[0;34m)\u001b[0m\u001b[0;34m.\u001b[0m\u001b[0mmagic\u001b[0m\u001b[0;34m(\u001b[0m\u001b[0;34mu'matplotlib inline'\u001b[0m\u001b[0;34m)\u001b[0m\u001b[0;34m\u001b[0m\u001b[0m\n",
      "\u001b[0;31mImportError\u001b[0m: No module named imageio"
     ]
    }
   ],
   "source": [
    "###### Run this cell (Ctrl + enter) when you first open \n",
    "###### the notebook to import all packages\n",
    "import numpy as np\n",
    "import numpy.linalg as linalg\n",
    "import scipy as scp\n",
    "import sympy as sp\n",
    "import matplotlib.pyplot as plt\n",
    "import imageio\n",
    "from skimage import transform\n",
    "%matplotlib inline"
   ]
  },
  {
   "cell_type": "markdown",
   "metadata": {},
   "source": [
    "To find the documentation for a function, use a ? after the function as below and run the cell"
   ]
  },
  {
   "cell_type": "code",
   "execution_count": null,
   "metadata": {},
   "outputs": [],
   "source": [
    "np.array?"
   ]
  },
  {
   "cell_type": "markdown",
   "metadata": {},
   "source": [
    "## Creating a rotation matrix\n",
    "\n",
    "Let's suppose that we have a robot that is located at the origin of the world frame, such that its local coordinate system is aligned with the world frame. The robot now rotates counterclockwise by $\\frac{\\pi}{4}$ radians around the $z$-axis. Our task is to define a rotation matrix that expresses the robot's rotation; in other words, denoting the world frame by $A$ and the robot frame by $B$, we need to express the matrix ${}^A_BR$."
   ]
  },
  {
   "cell_type": "code",
   "execution_count": 4,
   "metadata": {
    "scrolled": true
   },
   "outputs": [
    {
     "name": "stdout",
     "output_type": "stream",
     "text": [
      "[[ 0.70710678 -0.70710678  0.        ]\n",
      " [ 0.70710678  0.70710678  0.        ]\n",
      " [ 0.          0.          1.        ]]\n"
     ]
    }
   ],
   "source": [
    "def get_rotation_matrix_z_axis(theta):\n",
    "    A_B_R=np.array([[np.cos(theta),-np.sin(theta),0],[np.sin(theta),np.cos(theta),0],[0,0,1]])\n",
    "    return A_B_R\n",
    "    #raise NotImplementedError()\n",
    "\n",
    "def get_rotation_matrix_x_axis(theta):\n",
    "    A_B_R=np.array([[0,0,1],[np.cos(theta),-np.sin(theta),0],[np.sin(theta),np.cos(theta),0]])\n",
    "    return A_B_R\n",
    "    #raise NotImplementedError()\n",
    "\n",
    "def get_rotation_matrix_y_axis(theta):\n",
    "    A_B_R=np.array([[np.cos(theta),-np.sin(theta),0],[0,0,1],[np.sin(theta),np.cos(theta),0]])\n",
    "    return A_B_R\n",
    "    #raise NotImplementedError()\n",
    "    \n",
    "theta = np.pi / 4.\n",
    "print(get_rotation_matrix_z_axis(theta))"
   ]
  },
  {
   "cell_type": "markdown",
   "metadata": {},
   "source": [
    "## Plotting the frames\n",
    "\n",
    "Let's now plot the world frame and the rotated frame of the robot together."
   ]
  },
  {
   "cell_type": "code",
   "execution_count": 22,
   "metadata": {},
   "outputs": [
    {
     "data": {
      "image/png": "[encoded data removed]",
      "text/plain": [
       "<Figure size 432x288 with 1 Axes>"
      ]
     },
     "metadata": {
      "needs_background": "light"
     },
     "output_type": "display_data"
    }
   ],
   "source": [
    "# plot the world frame\n",
    "plt.plot([0,1],[0,0],'b')\n",
    "plt.plot([0,0],[0,1],'b')\n",
    "\n",
    "\n",
    "# plot the robot frame\n",
    "plt.plot([0,1],[0,0],'g')\n",
    "plt.plot([0,0],[0,1],'g')\n",
    "# set some plot properties\n",
    "plt.axis('equal')\n",
    "plt.xlabel('x')\n",
    "plt.ylabel('y')\n",
    "plt.title('Frames')\n",
    "plt.show()"
   ]
  },
  {
   "cell_type": "markdown",
   "metadata": {},
   "source": [
    "## Translating frames\n",
    "\n",
    "Let's now assume that, instead of rotating, the robot translates by $3$ units along the $x$-axis and $5$ units along the $y$-axis. We could express this in Python as follows:"
   ]
  },
  {
   "cell_type": "code",
   "execution_count": 7,
   "metadata": {},
   "outputs": [
    {
     "name": "stdout",
     "output_type": "stream",
     "text": [
      "[3 5 0]\n"
     ]
    }
   ],
   "source": [
    "# define the current position\n",
    "p_b=np.array([0,0,0])\n",
    "# define the translation\n",
    "t=np.array([3,5,0])\n",
    "# define the new position\n",
    "\n",
    "P_b_new=p_b+t\n",
    "\n",
    "print P_b_new\n"
   ]
  },
  {
   "cell_type": "markdown",
   "metadata": {},
   "source": [
    "## Plotting the frames\n",
    "\n",
    "Let's now plot the world frame and the translated frame of the robot."
   ]
  },
  {
   "cell_type": "code",
   "execution_count": 10,
   "metadata": {},
   "outputs": [
    {
     "data": {
      "image/png": "[encoded data removed]",
      "text/plain": [
       "<Figure size 432x288 with 1 Axes>"
      ]
     },
     "metadata": {
      "needs_background": "light"
     },
     "output_type": "display_data"
    }
   ],
   "source": [
    "# plot the world frame\n",
    "plt.plot([0,1],[0,0],'b')\n",
    "plt.plot([0,0],[0,1],'b')\n",
    "# plot the robot frame\n",
    "plt.plot([P_b_new[0],P_b_new[0]+1],[P_b_new[1],P_b_new[1]],'g')\n",
    "plt.plot([P_b_new[0],P_b_new[0]],[P_b_new[1],P_b_new[1]+1],'g')\n",
    "# set some plot properties\n",
    "plt.axis('equal')\n",
    "plt.xlabel('x')\n",
    "plt.ylabel('y')\n",
    "plt.title('Frames')\n",
    "plt.show()"
   ]
  },
  {
   "cell_type": "markdown",
   "metadata": {},
   "source": [
    "## Combining rotation and translation into a homogeneous transformation matrix\n",
    "\n",
    "Let's now assume that the robot both rotates by $\\frac{\\pi}{4}$ around the $z$-axis and translates by $3$ units along the $x$-axis and $5$ units along the $y$-axis. As we know from the lecture, rotations and translations can be expressed together in a so-called homogeneous transformation matrix. Let's perform this transformation in Python."
   ]
  },
  {
   "cell_type": "code",
   "execution_count": 13,
   "metadata": {},
   "outputs": [
    {
     "ename": "ValueError",
     "evalue": "all the input array dimensions except for the concatenation axis must match exactly",
     "output_type": "error",
     "traceback": [
      "\u001b[0;31m---------------------------------------------------------------------------\u001b[0m",
      "\u001b[0;31mValueError\u001b[0m                                Traceback (most recent call last)",
      "\u001b[0;32m<ipython-input-13-0987e4439d24>\u001b[0m in \u001b[0;36m<module>\u001b[0;34m()\u001b[0m\n\u001b[1;32m      9\u001b[0m \u001b[0mA_B_R\u001b[0m\u001b[0;34m=\u001b[0m\u001b[0mget_rotation_matrix_z_axis\u001b[0m\u001b[0;34m(\u001b[0m\u001b[0mnp\u001b[0m\u001b[0;34m.\u001b[0m\u001b[0mpi\u001b[0m\u001b[0;34m/\u001b[0m\u001b[0;36m4\u001b[0m\u001b[0;34m)\u001b[0m\u001b[0;34m\u001b[0m\u001b[0m\n\u001b[1;32m     10\u001b[0m \u001b[0;34m\u001b[0m\u001b[0m\n\u001b[0;32m---> 11\u001b[0;31m \u001b[0mT\u001b[0m\u001b[0;34m=\u001b[0m\u001b[0mnp\u001b[0m\u001b[0;34m.\u001b[0m\u001b[0mhstack\u001b[0m\u001b[0;34m(\u001b[0m\u001b[0;34m(\u001b[0m\u001b[0mA_B_R\u001b[0m\u001b[0;34m,\u001b[0m\u001b[0mt\u001b[0m\u001b[0;34m)\u001b[0m\u001b[0;34m)\u001b[0m\u001b[0;34m\u001b[0m\u001b[0m\n\u001b[0m\u001b[1;32m     12\u001b[0m \u001b[0mT\u001b[0m\u001b[0;34m=\u001b[0m\u001b[0mnp\u001b[0m\u001b[0;34m.\u001b[0m\u001b[0mvstack\u001b[0m\u001b[0;34m(\u001b[0m\u001b[0;34m(\u001b[0m\u001b[0mT\u001b[0m\u001b[0;34m,\u001b[0m\u001b[0mnp\u001b[0m\u001b[0;34m.\u001b[0m\u001b[0marray\u001b[0m\u001b[0;34m(\u001b[0m\u001b[0;34m[\u001b[0m\u001b[0;36m0\u001b[0m\u001b[0;34m,\u001b[0m\u001b[0;36m0\u001b[0m\u001b[0;34m,\u001b[0m\u001b[0;36m0\u001b[0m\u001b[0;34m,\u001b[0m\u001b[0;36m1\u001b[0m\u001b[0;34m]\u001b[0m\u001b[0;34m)\u001b[0m\u001b[0;34m)\u001b[0m\u001b[0;34m)\u001b[0m\u001b[0;34m\u001b[0m\u001b[0m\n\u001b[1;32m     13\u001b[0m \u001b[0;31m# transform p_b\u001b[0m\u001b[0;34m\u001b[0m\u001b[0;34m\u001b[0m\u001b[0m\n",
      "\u001b[0;32m/home/protyush/.local/lib/python2.7/site-packages/numpy/core/shape_base.pyc\u001b[0m in \u001b[0;36mhstack\u001b[0;34m(tup)\u001b[0m\n\u001b[1;32m    286\u001b[0m         \u001b[0;32mreturn\u001b[0m \u001b[0m_nx\u001b[0m\u001b[0;34m.\u001b[0m\u001b[0mconcatenate\u001b[0m\u001b[0;34m(\u001b[0m\u001b[0marrs\u001b[0m\u001b[0;34m,\u001b[0m \u001b[0;36m0\u001b[0m\u001b[0;34m)\u001b[0m\u001b[0;34m\u001b[0m\u001b[0m\n\u001b[1;32m    287\u001b[0m     \u001b[0;32melse\u001b[0m\u001b[0;34m:\u001b[0m\u001b[0;34m\u001b[0m\u001b[0m\n\u001b[0;32m--> 288\u001b[0;31m         \u001b[0;32mreturn\u001b[0m \u001b[0m_nx\u001b[0m\u001b[0;34m.\u001b[0m\u001b[0mconcatenate\u001b[0m\u001b[0;34m(\u001b[0m\u001b[0marrs\u001b[0m\u001b[0;34m,\u001b[0m \u001b[0;36m1\u001b[0m\u001b[0;34m)\u001b[0m\u001b[0;34m\u001b[0m\u001b[0m\n\u001b[0m\u001b[1;32m    289\u001b[0m \u001b[0;34m\u001b[0m\u001b[0m\n\u001b[1;32m    290\u001b[0m \u001b[0;34m\u001b[0m\u001b[0m\n",
      "\u001b[0;31mValueError\u001b[0m: all the input array dimensions except for the concatenation axis must match exactly"
     ]
    }
   ],
   "source": [
    "# # # specify the original position, p_b, of the robot (in homogeneous coordinates)\n",
    "p_b=np.array([0,0,0,1])\n",
    "# define the translation\n",
    "t=np.array([3,5,0])\n",
    "# convert p_b into a column vector\n",
    "p_b=p_b[np.newaxis].T\n",
    "# create the transformation matrix\n",
    "t=t[np.newaxis]\n",
    "A_B_R=get_rotation_matrix_z_axis(np.pi/4)\n",
    "\n",
    "T=np.hstack((A_B_R,t))\n",
    "T=np.vstack((T,np.array([0,0,0,1])))\n",
    "# transform p_b\n",
    "pb_new=T.dot(p_b)\n",
    "# select and print the translation column\n",
    "print(T[0:3,-1])\n",
    "# select and print the last row of the matrix\n",
    "print(T[-1,1])\n",
    "# select and print the translation matrix\n",
    "print(T[0:3,0:3])"
   ]
  },
  {
   "cell_type": "markdown",
   "metadata": {},
   "source": [
    "## Plotting the frames\n",
    "\n",
    "Let's plot the world frame and the transformed robot frame."
   ]
  },
  {
   "cell_type": "code",
   "execution_count": null,
   "metadata": {},
   "outputs": [],
   "source": [
    "# plot the world frame\n",
    "\n",
    "# plot the robot frame\n",
    "\n",
    "# set some plot properties"
   ]
  },
  {
   "cell_type": "markdown",
   "metadata": {},
   "source": [
    "## Symbolic mathematics using symbolic Python"
   ]
  },
  {
   "cell_type": "code",
   "execution_count": 20,
   "metadata": {},
   "outputs": [
    {
     "name": "stdout",
     "output_type": "stream",
     "text": [
      "4.00000000000000\n",
      "2*x\n",
      "x**3/3\n",
      "4.00000000000000\n"
     ]
    }
   ],
   "source": [
    "# create a symbolic variable, x\n",
    "x=sp.symbols('x')\n",
    "# create a function of x\n",
    "y=x**2\n",
    "# substitute values into y\n",
    "n1=y.evalf(subs={x: 2.})\n",
    "print(n1)\n",
    "# differentiate y with respect to x\n",
    "y_prime=y.diff(x)\n",
    "print(y_prime)\n",
    "# integrate y with respect to x\n",
    "y_intergration=y.integrate(x)\n",
    "print(y_intergration)\n",
    "# substitute values into y_prime\n",
    "print(y_prime.evalf(subs={x: 2.}))"
   ]
  },
  {
   "cell_type": "markdown",
   "metadata": {},
   "source": [
    "## Loading files and plotting 3D data"
   ]
  },
  {
   "cell_type": "code",
   "execution_count": null,
   "metadata": {},
   "outputs": [],
   "source": [
    "from mpl_toolkits.mplot3d import Axes3D\n",
    "\n",
    "# load data\n",
    "\n",
    "# create a 3D scatter plot"
   ]
  },
  {
   "cell_type": "markdown",
   "metadata": {},
   "source": [
    "## Loading and manipulating images"
   ]
  },
  {
   "cell_type": "code",
   "execution_count": null,
   "metadata": {},
   "outputs": [],
   "source": [
    "# load an image using scipy\n",
    "\n",
    "# display the image\n",
    "\n",
    "# resize the image and display the resized version\n",
    "\n",
    "# find edges in the image"
   ]
  },
  {
   "cell_type": "markdown",
   "metadata": {},
   "source": [
    "## Optimising functions using scipy"
   ]
  },
  {
   "cell_type": "code",
   "execution_count": null,
   "metadata": {},
   "outputs": [],
   "source": [
    "# define a function to return the square of a number\n",
    "def f(x):\n",
    "    raise NotImplementedError()\n",
    "\n",
    "# define a function to return the differential of x**2\n",
    "def f_prime(x):\n",
    "    raise NotImplementedError()\n",
    "\n",
    "# optimising x**2 starting at x = 0.5 (the minimum occurs \n",
    "# at x = 0, so that's the expected solution)"
   ]
  }
 ],
 "metadata": {
  "kernelspec": {
   "display_name": "Python 2",
   "language": "python",
   "name": "python2"
  },
  "language_info": {
   "codemirror_mode": {
    "name": "ipython",
    "version": 2
   },
   "file_extension": ".py",
   "mimetype": "text/x-python",
   "name": "python",
   "nbconvert_exporter": "python",
   "pygments_lexer": "ipython2",
   "version": "2.7.12"
  }
 },
 "nbformat": 4,
 "nbformat_minor": 2
}
